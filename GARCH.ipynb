{
 "cells": [
  {
   "cell_type": "markdown",
   "metadata": {},
   "source": [
    "# Generalized Autoregressive Conditional Heteroskedasticity.(GARCH)"
   ]
  },
  {
   "cell_type": "markdown",
   "metadata": {},
   "source": [
    "##### The ARCH model is a statistical model for time series data that desribes the variance of a period t (current period) error term or innovation as a function of the actual sizes of the previous time periods' error terms. Often the variance is related to the square of previous innovations. The ARCH model is appropriate when the variance of the error term follows an AR process. However if the if an ARMA process is assummed to the error variance, then the model is a GARCH."
   ]
  },
  {
   "cell_type": "code",
   "execution_count": 3,
   "metadata": {},
   "outputs": [],
   "source": [
    "import pandas as pd\n",
    "import numpy as np\n",
    "from matplotlib import pyplot\n",
    "from statsmodels.graphics.tsaplots import plot_acf\n",
    "from arch import arch_model\n",
    "import statistics as sm\n",
    "%matplotlib inline"
   ]
  },
  {
   "cell_type": "code",
   "execution_count": 4,
   "metadata": {},
   "outputs": [
    {
     "data": {
      "text/html": [
       "<div>\n",
       "<style scoped>\n",
       "    .dataframe tbody tr th:only-of-type {\n",
       "        vertical-align: middle;\n",
       "    }\n",
       "\n",
       "    .dataframe tbody tr th {\n",
       "        vertical-align: top;\n",
       "    }\n",
       "\n",
       "    .dataframe thead th {\n",
       "        text-align: right;\n",
       "    }\n",
       "</style>\n",
       "<table border=\"1\" class=\"dataframe\">\n",
       "  <thead>\n",
       "    <tr style=\"text-align: right;\">\n",
       "      <th></th>\n",
       "      <th>A</th>\n",
       "      <th>E</th>\n",
       "      <th>U</th>\n",
       "      <th>J</th>\n",
       "    </tr>\n",
       "    <tr>\n",
       "      <th>T</th>\n",
       "      <th></th>\n",
       "      <th></th>\n",
       "      <th></th>\n",
       "      <th></th>\n",
       "    </tr>\n",
       "  </thead>\n",
       "  <tbody>\n",
       "    <tr>\n",
       "      <th>2000-01-03</th>\n",
       "      <td>1.5172</td>\n",
       "      <td>0.9847</td>\n",
       "      <td>0.6146</td>\n",
       "      <td>101.70</td>\n",
       "    </tr>\n",
       "    <tr>\n",
       "      <th>2000-01-04</th>\n",
       "      <td>1.5239</td>\n",
       "      <td>0.9700</td>\n",
       "      <td>0.6109</td>\n",
       "      <td>103.09</td>\n",
       "    </tr>\n",
       "    <tr>\n",
       "      <th>2000-01-05</th>\n",
       "      <td>1.5267</td>\n",
       "      <td>0.9676</td>\n",
       "      <td>0.6092</td>\n",
       "      <td>103.77</td>\n",
       "    </tr>\n",
       "    <tr>\n",
       "      <th>2000-01-06</th>\n",
       "      <td>1.5291</td>\n",
       "      <td>0.9686</td>\n",
       "      <td>0.6070</td>\n",
       "      <td>105.19</td>\n",
       "    </tr>\n",
       "    <tr>\n",
       "      <th>2000-01-07</th>\n",
       "      <td>1.5272</td>\n",
       "      <td>0.9714</td>\n",
       "      <td>0.6104</td>\n",
       "      <td>105.17</td>\n",
       "    </tr>\n",
       "  </tbody>\n",
       "</table>\n",
       "</div>"
      ],
      "text/plain": [
       "                 A       E       U       J\n",
       "T                                         \n",
       "2000-01-03  1.5172  0.9847  0.6146  101.70\n",
       "2000-01-04  1.5239  0.9700  0.6109  103.09\n",
       "2000-01-05  1.5267  0.9676  0.6092  103.77\n",
       "2000-01-06  1.5291  0.9686  0.6070  105.19\n",
       "2000-01-07  1.5272  0.9714  0.6104  105.17"
      ]
     },
     "execution_count": 4,
     "metadata": {},
     "output_type": "execute_result"
    }
   ],
   "source": [
    "#Let's import the data set\n",
    "df1=pd.read_csv(\"C.csv\",parse_dates=[\"T\"], index_col=[\"T\"])\n",
    "df1.head()\n"
   ]
  },
  {
   "cell_type": "code",
   "execution_count": 5,
   "metadata": {},
   "outputs": [
    {
     "data": {
      "image/png": "[encoded data removed]",
      "text/plain": [
       "<Figure size 432x288 with 1 Axes>"
      ]
     },
     "metadata": {
      "needs_background": "light"
     },
     "output_type": "display_data"
    }
   ],
   "source": [
    "#Again lets take a look at the data.\n",
    "pyplot.plot(df1[\"A\"])\n",
    "pyplot.show()"
   ]
  },
  {
   "cell_type": "code",
   "execution_count": 6,
   "metadata": {},
   "outputs": [
    {
     "data": {
      "image/png": "[encoded data removed]",
      "text/plain": [
       "<Figure size 432x288 with 1 Axes>"
      ]
     },
     "metadata": {
      "needs_background": "light"
     },
     "output_type": "display_data"
    }
   ],
   "source": [
    "#autocorellation plot\n",
    "squared_data=df1[\"A\"]**2\n",
    "plot_acf(squared_data)\n",
    "pyplot.show()"
   ]
  },
  {
   "cell_type": "markdown",
   "metadata": {},
   "source": [
    "#### Auto Regressive Conditional Heteroskedasticity. (ARCH)"
   ]
  },
  {
   "cell_type": "markdown",
   "metadata": {},
   "source": [
    "#Let's split the data series into training and test data.Here we have split the data into a training(2/3 of data) and a test set(1/3)of the data set"
   ]
  },
  {
   "cell_type": "code",
   "execution_count": 7,
   "metadata": {},
   "outputs": [
    {
     "name": "stdout",
     "output_type": "stream",
     "text": [
      "Iteration:      1,   Func. Count:     18,   Neg. LLF: 9216.473422401676\n",
      "Iteration:      2,   Func. Count:     38,   Neg. LLF: 25740.176686270734\n",
      "Iteration:      3,   Func. Count:     56,   Neg. LLF: 6262.473163466297\n",
      "Iteration:      4,   Func. Count:     74,   Neg. LLF: 6254.762262115972\n",
      "Iteration:      5,   Func. Count:     92,   Neg. LLF: 6252.776842774501\n",
      "Iteration:      6,   Func. Count:    110,   Neg. LLF: 6291.07755221491\n",
      "Iteration:      7,   Func. Count:    128,   Neg. LLF: 6255.755938897417\n",
      "Iteration:      8,   Func. Count:    146,   Neg. LLF: 6245.919090675264\n",
      "Iteration:      9,   Func. Count:    164,   Neg. LLF: 6249.891043885798\n",
      "Iteration:     10,   Func. Count:    182,   Neg. LLF: 6242.393818961992\n",
      "Iteration:     11,   Func. Count:    200,   Neg. LLF: 6242.262705637111\n",
      "Iteration:     12,   Func. Count:    218,   Neg. LLF: 6240.156963004818\n",
      "Iteration:     13,   Func. Count:    236,   Neg. LLF: 6242.706486795618\n",
      "Iteration:     14,   Func. Count:    254,   Neg. LLF: 6240.432990276716\n",
      "Iteration:     15,   Func. Count:    272,   Neg. LLF: 6241.591641539043\n",
      "Iteration:     16,   Func. Count:    291,   Neg. LLF: 6238.816087215484\n",
      "Iteration:     17,   Func. Count:    309,   Neg. LLF: 6239.647679581334\n",
      "Iteration:     18,   Func. Count:    327,   Neg. LLF: 6239.5901891451895\n",
      "Iteration:     19,   Func. Count:    345,   Neg. LLF: 6239.203705311066\n",
      "Iteration:     20,   Func. Count:    364,   Neg. LLF: 6238.471557370328\n",
      "Iteration:     21,   Func. Count:    382,   Neg. LLF: 6239.216258402655\n",
      "Iteration:     22,   Func. Count:    401,   Neg. LLF: 6238.26214347548\n",
      "Iteration:     23,   Func. Count:    419,   Neg. LLF: 6238.2480237436675\n",
      "Iteration:     24,   Func. Count:    436,   Neg. LLF: 6238.248009367761\n",
      "Iteration:     25,   Func. Count:    452,   Neg. LLF: 6238.2480093677705\n",
      "Optimization terminated successfully    (Exit mode 0)\n",
      "            Current function value: 6238.248009367761\n",
      "            Iterations: 25\n",
      "            Function evaluations: 452\n",
      "            Gradient evaluations: 25\n"
     ]
    }
   ],
   "source": [
    "train, test = df1.A[0:3748], df1.A[3748:-1]\n",
    "# define model\n",
    "model = arch_model(train, mean='Zero', vol='ARCH', p=15)\n",
    "# fit model\n",
    "model_fit = model.fit()\n",
    "# forecast the test set\n",
    "yhat = model_fit.forecast(horizon=5217)"
   ]
  },
  {
   "cell_type": "code",
   "execution_count": 9,
   "metadata": {},
   "outputs": [
    {
     "data": {
      "text/html": [
       "<div>\n",
       "<style scoped>\n",
       "    .dataframe tbody tr th:only-of-type {\n",
       "        vertical-align: middle;\n",
       "    }\n",
       "\n",
       "    .dataframe tbody tr th {\n",
       "        vertical-align: top;\n",
       "    }\n",
       "\n",
       "    .dataframe thead th {\n",
       "        text-align: right;\n",
       "    }\n",
       "</style>\n",
       "<table border=\"1\" class=\"dataframe\">\n",
       "  <thead>\n",
       "    <tr style=\"text-align: right;\">\n",
       "      <th></th>\n",
       "      <th>A</th>\n",
       "      <th>E</th>\n",
       "      <th>U</th>\n",
       "      <th>J</th>\n",
       "    </tr>\n",
       "  </thead>\n",
       "  <tbody>\n",
       "    <tr>\n",
       "      <th>count</th>\n",
       "      <td>5217.000000</td>\n",
       "      <td>5217.000000</td>\n",
       "      <td>5217.000000</td>\n",
       "      <td>5217.000000</td>\n",
       "    </tr>\n",
       "    <tr>\n",
       "      <th>mean</th>\n",
       "      <td>1.281462</td>\n",
       "      <td>0.811876</td>\n",
       "      <td>0.616068</td>\n",
       "      <td>102.544723</td>\n",
       "    </tr>\n",
       "    <tr>\n",
       "      <th>std</th>\n",
       "      <td>0.367267</td>\n",
       "      <td>0.203679</td>\n",
       "      <td>0.146769</td>\n",
       "      <td>24.141168</td>\n",
       "    </tr>\n",
       "    <tr>\n",
       "      <th>min</th>\n",
       "      <td>0.000000</td>\n",
       "      <td>0.000000</td>\n",
       "      <td>0.000000</td>\n",
       "      <td>0.000000</td>\n",
       "    </tr>\n",
       "    <tr>\n",
       "      <th>25%</th>\n",
       "      <td>1.094700</td>\n",
       "      <td>0.743700</td>\n",
       "      <td>0.569200</td>\n",
       "      <td>97.860000</td>\n",
       "    </tr>\n",
       "    <tr>\n",
       "      <th>50%</th>\n",
       "      <td>1.305300</td>\n",
       "      <td>0.811200</td>\n",
       "      <td>0.633500</td>\n",
       "      <td>108.620000</td>\n",
       "    </tr>\n",
       "    <tr>\n",
       "      <th>75%</th>\n",
       "      <td>1.424300</td>\n",
       "      <td>0.897300</td>\n",
       "      <td>0.690200</td>\n",
       "      <td>116.440000</td>\n",
       "    </tr>\n",
       "    <tr>\n",
       "      <th>max</th>\n",
       "      <td>2.071300</td>\n",
       "      <td>1.209200</td>\n",
       "      <td>0.828700</td>\n",
       "      <td>134.770000</td>\n",
       "    </tr>\n",
       "  </tbody>\n",
       "</table>\n",
       "</div>"
      ],
      "text/plain": [
       "                 A            E            U            J\n",
       "count  5217.000000  5217.000000  5217.000000  5217.000000\n",
       "mean      1.281462     0.811876     0.616068   102.544723\n",
       "std       0.367267     0.203679     0.146769    24.141168\n",
       "min       0.000000     0.000000     0.000000     0.000000\n",
       "25%       1.094700     0.743700     0.569200    97.860000\n",
       "50%       1.305300     0.811200     0.633500   108.620000\n",
       "75%       1.424300     0.897300     0.690200   116.440000\n",
       "max       2.071300     1.209200     0.828700   134.770000"
      ]
     },
     "execution_count": 9,
     "metadata": {},
     "output_type": "execute_result"
    }
   ],
   "source": [
    "#Just taking a look at the sub dataset\n",
    "df1.describe()\n",
    "#d.mean(axis = 1, skipna = True)"
   ]
  },
  {
   "cell_type": "markdown",
   "metadata": {},
   "source": [
    "## GARCH"
   ]
  },
  {
   "cell_type": "code",
   "execution_count": 11,
   "metadata": {},
   "outputs": [
    {
     "name": "stdout",
     "output_type": "stream",
     "text": [
      "Iteration:      1,   Func. Count:     19,   Neg. LLF: 1870651454.7735384\n",
      "Iteration:      2,   Func. Count:     40,   Neg. LLF: 15175.126311529131\n",
      "Iteration:      3,   Func. Count:     59,   Neg. LLF: 6544.316902733494\n",
      "Iteration:      4,   Func. Count:     78,   Neg. LLF: 15281.005320269942\n",
      "Iteration:      5,   Func. Count:     97,   Neg. LLF: 6254.247337757135\n",
      "Iteration:      6,   Func. Count:    116,   Neg. LLF: 6259.720966039127\n",
      "Iteration:      7,   Func. Count:    135,   Neg. LLF: 6241.934064762114\n",
      "Iteration:      8,   Func. Count:    154,   Neg. LLF: 6282.244864865928\n",
      "Iteration:      9,   Func. Count:    174,   Neg. LLF: 6247.834022111812\n",
      "Iteration:     10,   Func. Count:    193,   Neg. LLF: 6238.570262547218\n",
      "Iteration:     11,   Func. Count:    212,   Neg. LLF: 6238.3425552808985\n",
      "Iteration:     12,   Func. Count:    231,   Neg. LLF: 6238.423832667841\n",
      "Iteration:     13,   Func. Count:    250,   Neg. LLF: 6238.170413600919\n",
      "Iteration:     14,   Func. Count:    269,   Neg. LLF: 6238.050631238948\n",
      "Iteration:     15,   Func. Count:    287,   Neg. LLF: 6240.208840671778\n",
      "Iteration:     16,   Func. Count:    306,   Neg. LLF: 6243.47742204614\n",
      "Iteration:     17,   Func. Count:    326,   Neg. LLF: 6238.046445304116\n",
      "Iteration:     18,   Func. Count:    345,   Neg. LLF: 6237.98243206625\n",
      "Iteration:     19,   Func. Count:    364,   Neg. LLF: 6237.921762742725\n",
      "Iteration:     20,   Func. Count:    383,   Neg. LLF: 6237.88133900557\n",
      "Iteration:     21,   Func. Count:    401,   Neg. LLF: 6237.880442804419\n",
      "Iteration:     22,   Func. Count:    420,   Neg. LLF: 6237.8856882687305\n",
      "Iteration:     23,   Func. Count:    439,   Neg. LLF: 6237.876751537503\n",
      "Iteration:     24,   Func. Count:    457,   Neg. LLF: 6237.876669858327\n",
      "Iteration:     25,   Func. Count:    475,   Neg. LLF: 6237.876668975209\n",
      "Optimization terminated successfully    (Exit mode 0)\n",
      "            Current function value: 6237.876668975209\n",
      "            Iterations: 25\n",
      "            Function evaluations: 475\n",
      "            Gradient evaluations: 25\n"
     ]
    },
    {
     "data": {
      "text/plain": [
       "<function matplotlib.pyplot.show(close=None, block=None)>"
      ]
     },
     "execution_count": 11,
     "metadata": {},
     "output_type": "execute_result"
    },
    {
     "data": {
      "image/png": "[encoded data removed]",
      "text/plain": [
       "<Figure size 432x288 with 1 Axes>"
      ]
     },
     "metadata": {
      "needs_background": "light"
     },
     "output_type": "display_data"
    }
   ],
   "source": [
    "train, test = df1.A[0:3748], df1.A[3748:-1]\n",
    "# define model\n",
    "model1 = arch_model(train, mean=\"Zero\", vol='GARCH', p=15)\n",
    "# fit model\n",
    "model1_fit = model1.fit()\n",
    "# forecast the test set\n",
    "yhat = model1_fit.forecast(horizon=len(df1[\"A\"]))\n",
    "#variance=sm.variance(df1[\"A\"])\n",
    "#pyplot.plot(variance)\n",
    "#pyplot.show"
   ]
  },
  {
   "cell_type": "code",
   "execution_count": 12,
   "metadata": {},
   "outputs": [
    {
     "name": "stdout",
     "output_type": "stream",
     "text": [
      "Iteration:      1,   Func. Count:     11,   Neg. LLF: nan\n",
      "Inequality constraints incompatible    (Exit mode 4)\n",
      "            Current function value: nan\n",
      "            Iterations: 1\n",
      "            Function evaluations: 11\n",
      "            Gradient evaluations: 2\n",
      "                     Constant Mean - GARCH Model Results                      \n",
      "==============================================================================\n",
      "Dep. Variable:                      y   R-squared:                         nan\n",
      "Mean Model:             Constant Mean   Adj. R-squared:                    nan\n",
      "Vol Model:                      GARCH   Log-Likelihood:                    nan\n",
      "Distribution:                  Normal   AIC:                               nan\n",
      "Method:            Maximum Likelihood   BIC:                               nan\n",
      "                                        No. Observations:                  100\n",
      "Date:                Mon, Dec 21 2020   Df Residuals:                       96\n",
      "Time:                        07:46:42   Df Model:                            4\n",
      "                               Mean Model                               \n",
      "========================================================================\n",
      "                 coef    std err          t      P>|t|  95.0% Conf. Int.\n",
      "------------------------------------------------------------------------\n",
      "mu             0.0000        nan        nan        nan [    nan,    nan]\n",
      "                            Volatility Model                            \n",
      "========================================================================\n",
      "                 coef    std err          t      P>|t|  95.0% Conf. Int.\n",
      "------------------------------------------------------------------------\n",
      "omega             nan        nan        nan        nan [    nan,    nan]\n",
      "alpha[1]       0.0100        nan        nan        nan [    nan,    nan]\n",
      "beta[1]        0.4900        nan        nan        nan [    nan,    nan]\n",
      "========================================================================\n",
      "\n",
      "Covariance estimator: robust\n",
      "WARNING: The optimizer did not indicate successful convergence. The message was Inequality constraints incompatible.\n",
      "See convergence_flag.\n",
      "\n"
     ]
    },
    {
     "name": "stderr",
     "output_type": "stream",
     "text": [
      "C:\\Users\\Rodgers\\Anaconda3\\lib\\site-packages\\arch\\univariate\\mean.py:559: RuntimeWarning: invalid value encountered in double_scalars\n",
      "  return 1.0 - e.T.dot(e) / y.dot(y)\n",
      "C:\\Users\\Rodgers\\Anaconda3\\lib\\site-packages\\arch\\univariate\\base.py:318: RuntimeWarning: divide by zero encountered in log\n",
      "  loglikelihood -= 0.5 * nobs * np.log(sigma2)\n",
      "C:\\Users\\Rodgers\\Anaconda3\\lib\\site-packages\\arch\\univariate\\volatility.py:1112: RuntimeWarning: invalid value encountered in double_scalars\n",
      "  scale = np.mean(resids ** 2) / (target ** (2.0 / power))\n",
      "C:\\Users\\Rodgers\\Anaconda3\\lib\\site-packages\\arch\\univariate\\base.py:711: ConvergenceWarning: The optimizer returned code 4. The message is:\n",
      "Inequality constraints incompatible\n",
      "See scipy.optimize.fmin_slsqp for code meaning.\n",
      "\n",
      "  ConvergenceWarning,\n",
      "C:\\Users\\Rodgers\\Anaconda3\\lib\\site-packages\\arch\\univariate\\mean.py:559: RuntimeWarning: invalid value encountered in double_scalars\n",
      "  return 1.0 - e.T.dot(e) / y.dot(y)\n",
      "C:\\Users\\Rodgers\\Anaconda3\\lib\\site-packages\\arch\\univariate\\base.py:318: RuntimeWarning: divide by zero encountered in log\n",
      "  loglikelihood -= 0.5 * nobs * np.log(sigma2)\n"
     ]
    }
   ],
   "source": [
    "#fitting model results\n",
    "eps = np.zeros_like(df1.A[0:100])\n",
    "am = arch_model(eps)\n",
    "res = am.fit(update_freq=1)\n",
    "print(res.summary())"
   ]
  },
  {
   "cell_type": "code",
   "execution_count": null,
   "metadata": {},
   "outputs": [],
   "source": []
  }
 ],
 "metadata": {
  "kernelspec": {
   "display_name": "Python 3",
   "language": "python",
   "name": "python3"
  },
  "language_info": {
   "codemirror_mode": {
    "name": "ipython",
    "version": 3
   },
   "file_extension": ".py",
   "mimetype": "text/x-python",
   "name": "python",
   "nbconvert_exporter": "python",
   "pygments_lexer": "ipython3",
   "version": "3.7.4"
  }
 },
 "nbformat": 4,
 "nbformat_minor": 2
}
